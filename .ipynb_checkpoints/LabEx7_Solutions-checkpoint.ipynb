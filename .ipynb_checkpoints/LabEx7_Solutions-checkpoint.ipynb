{
 "cells": [
  {
   "cell_type": "markdown",
   "metadata": {},
   "source": [
    "## <span style = \"color:blue\">Lab Exercise 7 Solutions (Total Marks: 20)</span>\n",
    "<div class = \"alert alert-danger\">\n",
    "Deadline for submission: Two weeks from your lab session (eg, Tuesday/Friday $\\rightarrow$ 11:59 pm of Tuesday/Friday two weeks later)\n",
    "    \n",
    "Rename your file as AXXXXXXXY_LabEx7.ipynb, where AXXXXXXXY is your matric number.\n",
    "</div>"
   ]
  },
  {
   "cell_type": "markdown",
   "metadata": {},
   "source": [
    "**Question 1**\n",
    "\n",
    "Solve the following ODE with **odeint()** for the initial condition $y(0)=2$, and plot $y(t)$ against $t$ (with appropriate labels):\n",
    "\n",
    "$$ \\frac{dy(t)}{dt} + y(t) = y(t)\\cos t $$ \n",
    "\n",
    "Please use the following code when creating the t mesh:\n",
    "\n",
    "t = np.linspace(0,10,100)\n",
    "\n",
    "where np is the alias for the numpy module."
   ]
  },
  {
   "cell_type": "markdown",
   "metadata": {},
   "source": [
    "**Question 2**\n",
    "\n",
    "Using the **Lotka-Volterra** model for analysing the predator-prey population evolution in the context of rabbits versus foxes, plot the following (with appropriate labels) side by side with the parameters given as $a, b, c, d = 0.18, 0.7, 0.2, 0.7$:\n",
    "\n",
    "(a) the time series of the rabbit versus fox populations given the initial conditions:\n",
    "- $[x0,y0] = [0.2, 0.4]$\n",
    "\n",
    "(b) the different phase portraits of the rabbit versus fox populations given the initial conditions: \n",
    "- $x0 = 0.2$\n",
    "- $y0 = [0.1,0.2,0.3,0.4,0.5]$\n",
    "\n",
    "where $x0$ and $y0$ are the initial rabbit and fox population respectively."
   ]
  },
  {
   "cell_type": "markdown",
   "metadata": {},
   "source": [
    "### <span style = \"color:blue\">Question 1 (10 marks)</span>"
   ]
  },
  {
   "cell_type": "code",
   "execution_count": null,
   "metadata": {},
   "outputs": [],
   "source": [
    "%reset\n",
    "\n",
    "# Load modules\n",
    "import numpy as np\n",
    "import matplotlib.pyplot as plt\n",
    "from scipy.integrate import odeint\n",
    "\n",
    "# Define the function that returns dy/dt\n",
    "def model(y,t): \n",
    "    dydt = y*np.cos(t) - y\n",
    "    return dydt\n",
    "\n",
    "# Initial condition\n",
    "y0 = 2                 \n",
    "\n",
    "# t mesh\n",
    "t = np.linspace(0,10,100)\n",
    "\n",
    "# Solve ODE\n",
    "yns = odeint(model,y0,t)\n",
    "\n",
    "# Plot results\n",
    "plt.plot(t,yns[:,0],\"r-\")\n",
    "plt.xlabel(\"$t$\")\n",
    "plt.ylabel(\"$y(t)$\")\n",
    "plt.title(\"$y(t)$ against $t$\")\n",
    "plt.grid(True)              \n",
    "plt.show()"
   ]
  },
  {
   "cell_type": "markdown",
   "metadata": {},
   "source": [
    "### <span style = \"color:blue\">Question 2 (10 marks)</span>"
   ]
  },
  {
   "cell_type": "code",
   "execution_count": null,
   "metadata": {},
   "outputs": [],
   "source": [
    "%reset\n",
    "import numpy as np\n",
    "import matplotlib.pyplot as plt\n",
    "from scipy.integrate import odeint\n",
    "\n",
    "# Declare the system parameters\n",
    "a,b,c,d = 0.18,0.7,0.2,0.7\n",
    "\n",
    "# Define the function that returns dx/dt and dy/dt together as dz/dt\n",
    "def model(z,t):\n",
    "    x,y = z[0],z[1]\n",
    "    dxdt = x*(a - b*y)   # Implementation of L-V equation\n",
    "    dydt = y*(d*x - c)   # Implementation of L-V equation\n",
    "    dzdt = [dxdt,dydt]\n",
    "    return dzdt\n",
    "    \n",
    "x0,y0 = 0.2,0.4   # Initial populations of rabbit and fox respectively\n",
    "z0 = [x0,y0]   \n",
    "t = np.linspace(0,80,400)   # Time mesh\n",
    "zns = odeint(model,z0,t)    # Call the odeint function; pass in model, z0 or [x0,y0] and t mesh\n",
    "                            # odeint() will return the computed solutions at the requested time values,\n",
    "                            # i.e. a set of x(t) values and a set of y(t) values (solutions) \n",
    "# Set figure size\n",
    "plt.figure(1,(12,4))\n",
    "\n",
    "# Plot time series for rabbits and foxes\n",
    "plt.subplot(1,2,1)\n",
    "plt.title(\"Time Series for Rabbits and Foxes\")\n",
    "plt.plot(t,zns[:,0],\"-\",label = \"Rabbits\")\n",
    "plt.plot(t,zns[:,1],\"-\",label = \"Foxes\")\n",
    "plt.xlabel(\"Time $t$\");plt.ylabel(\"Population\")\n",
    "plt.grid(True);plt.legend(loc=0)\n",
    "\n",
    "# Plot phase portraits for different initial fox population y0\n",
    "plt.subplot(1,2,2)\n",
    "x0 = 0.2\n",
    "y0list = [0.1,0.2,0.3,0.4,0.5]   # List of different initial fox population to plot\n",
    "\n",
    "for y0 in y0list:\n",
    "    z0 = [x0,y0]\n",
    "    zns = odeint(model,z0,t)\n",
    "    mylabel = \"(\" + str(x0) + \",\" + str(y0) + \")\"\n",
    "    plt.plot(z0[0],z0[1],'ro')\n",
    "    plt.plot(zns[:,0],zns[:,1],\"-\",label=mylabel)\n",
    "plt.title(\"Fox vs Rabbit Populations\")\n",
    "plt.xlabel(\"Rabbits\");plt.ylabel(\"Foxes\")\n",
    "plt.grid(True);plt.legend(loc=1)                                                        \n",
    "\n",
    "plt.tight_layout()\n",
    "plt.show()"
   ]
  }
 ],
 "metadata": {
  "kernelspec": {
   "display_name": "Python 3",
   "language": "python",
   "name": "python3"
  },
  "language_info": {
   "codemirror_mode": {
    "name": "ipython",
    "version": 3
   },
   "file_extension": ".py",
   "mimetype": "text/x-python",
   "name": "python",
   "nbconvert_exporter": "python",
   "pygments_lexer": "ipython3",
   "version": "3.7.6"
  }
 },
 "nbformat": 4,
 "nbformat_minor": 2
}
