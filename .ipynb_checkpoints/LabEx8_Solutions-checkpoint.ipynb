{
 "cells": [
  {
   "cell_type": "markdown",
   "metadata": {},
   "source": [
    "## <span style = \"color:blue\">Lab Exercise 8 Solutions (Total Marks: 20)</span>\n",
    "<div class = \"alert alert-danger\">\n",
    "Deadline for submission: Two weeks from your lab session (eg, Tuesday/Friday $\\rightarrow$ 11:59 pm of Tuesday/Friday two weeks later)\n",
    "    \n",
    "Rename your file as AXXXXXXXY_LabEx8.ipynb, where AXXXXXXXY is your matric number.\n",
    "</div>"
   ]
  },
  {
   "cell_type": "markdown",
   "metadata": {},
   "source": [
    "**Question 1**\n",
    "\n",
    "Some infections, for example, those from the common cold and influenza, do not confer any long-lasting immunity upon recovery, and individuals become susceptible again. The SIS model can be used to study the behaviour of such infections.\n",
    "\n",
    "In the SIS model, there are only two compartments in a fixed population:\n",
    "\n",
    "- $S(t)$ (susceptible) represents individuals of the population not yet infected with the disease at time $t$, or those susceptible in the population.\n",
    "- $I(t)$ (infectious) represents individuals of the population who have been infected with the disease and are capable of infecting others in the susceptible group. Once recovered, they are back to the susceptible population.\n",
    "\n",
    "The \"normalised\" SIS formulation consists of the following set of nonlinear differential equations: \n",
    "\n",
    "$$ \\frac{dS'}{dt} = -rI'(R_{0}S'-1) $$ \n",
    "$$ \\frac{dI'}{dt} = rI'(R_{0}S'-1) $$ \n",
    "\n",
    "$r$ is the rate of recovery and $R_{0}$ is the basic reproductive number or ratio and is dependent on the parameter for infectivity ($R_{0} = \\frac{\\beta N}{r}$ where $N$ is the total population assumed to be a constant). \n",
    "\n",
    "You are to solve for the set of nonlinear differential equations in the SIS model and plot both the susceptible and infected populations on the same graph for $r = 1.0$ and $U0 = [1.0, 0.001]$. Create four plots with $R0$ taking on the following values:\n",
    "\n",
    "(a) 1.5\n",
    "\n",
    "(b) 2.0\n",
    "\n",
    "(c) 3.0\n",
    "\n",
    "(d) 4.0"
   ]
  },
  {
   "cell_type": "markdown",
   "metadata": {},
   "source": [
    "**Question 2**\n",
    "\n",
    "Plot the daily number of new Covid cases in the United States of America based on the data recorded in daily_covid_data.csv. Perform a suitable polynomial fit to the plotted data which should exhibit several humps or peaks at different periods. The media referred to them as the first wave, second wave, etc., with each larger than the previous sometimes."
   ]
  },
  {
   "cell_type": "markdown",
   "metadata": {},
   "source": [
    "### <span style = \"color:blue\">Question 1 (10 marks)</span>"
   ]
  },
  {
   "cell_type": "code",
   "execution_count": null,
   "metadata": {},
   "outputs": [],
   "source": [
    "# Modeling the SIS\n",
    "\n",
    "%reset\n",
    "import numpy as np\n",
    "import matplotlib.pyplot as plt\n",
    "from scipy.integrate import odeint\n",
    "\n",
    "# U will return both S and I \n",
    "def model(U, t, R0):\n",
    "    s, i = U[0], U[1]\n",
    "    dSdt = -r*i*(R0*s-1)\n",
    "    dIdt = r*i*(R0*s-1)\n",
    "    return [dSdt, dIdt]\n",
    "    # return [ -r*U[1]*(R0*U[0]-1), r*U[1]*(R0*U[0]-1) ] #You could also use just one line of code to return [dSdt, dIdt]\n",
    "\n",
    "tmax = 20\n",
    "ticks = 10*tmax\n",
    "t = np.linspace(0, tmax, ticks)\n",
    "\n",
    "R0 = [1.5,2.0,3.0,4.0]   # Basic reproductive ratio\n",
    "r = 1.0    # Rate of recovery\n",
    "One = np.ones(ticks)\n",
    "\n",
    "# Initial conditions: very small infected fraction\n",
    "U0 = [1.0, 0.001]\n",
    "j = 1\n",
    "\n",
    "plt.figure(figsize=(12,10))\n",
    "for x in R0:   # Loop through all the values of R0\n",
    "    plt.subplot(2,2,j)\n",
    "    Uns = odeint(model, U0, t, args = (x,))   # Note the syntax for passing additional argument\n",
    "    plt.plot(t,Uns[:,0],label='Susceptible')\n",
    "    plt.plot(t,Uns[:,1],label='Infected')\n",
    "    plt.xlabel(\"$t$\", fontsize=12)\n",
    "    plt.ylabel(\"Population Fractions\", fontsize=12) \n",
    "    plt.title(\"SIS Model, $R_0 = $\" + str(x) + \", r = \" + str(r) + \", $I_0 = $\" + str(U0[1]))\n",
    "    plt.legend()\n",
    "    plt.grid()\n",
    "    j += 1\n",
    "\n",
    "plt.tight_layout()\n",
    "plt.show()"
   ]
  },
  {
   "cell_type": "markdown",
   "metadata": {},
   "source": [
    "### <span style = \"color:blue\">Question 2 (10 marks)</span>"
   ]
  },
  {
   "cell_type": "code",
   "execution_count": null,
   "metadata": {},
   "outputs": [],
   "source": [
    "# Import daily_covid_data.csv and plot USA's covid data (2020 & 2021)\n",
    "\n",
    "%reset\n",
    "import numpy as np\n",
    "import matplotlib.pyplot as plt\n",
    "import pandas as pd\n",
    "\n",
    "time_series = pd.read_csv('daily_covid_data.csv')   # Import data from who_data.csv file and stores it as time_series\n",
    "\n",
    "# Convert the 'Date' field in time_series into proper date and time format\n",
    "time_series['Day'] = pd.to_datetime(time_series['Day'])   \n",
    "\n",
    "print(time_series)   # Uncomment this to see the imported data in its entirety.\n",
    "                     # We shall extract part of it for further study.\n",
    "\n",
    "# Code below extracts data tagged 'USA' in the 'Country field'\n",
    "# Extract 'USA' data into time_series_usa by selecting only entries where the == conditional holds TRUE\n",
    "time_series_usa = time_series[time_series['Code'] == ('USA')] \n",
    "\n",
    "# Convert time_series_usa from a pandas dataframe to a numpy array\n",
    "data_usa = pd.DataFrame(time_series_usa).to_numpy()\n",
    "\n",
    "# Plot USA's covid data\n",
    "plt.figure(1,(15,6))\n",
    "plt.plot(data_usa[:,2],data_usa[:,3],\"b.-\",label=\"Daily new cases\")   # 3rd field is the date data and 4th field is the daily new cases\n",
    "plt.title(\"Number of daily new Cvoid cases in USA\")\n",
    "plt.ylabel(\"Daily new cases\"); plt.xlabel(\"Date\")\n",
    "\n",
    "# Perform polynomial fit\n",
    "x = np.arange(len(data_usa[:,3]))   # Create x mesh\n",
    "print(len(x),\"days in total.\")     # Print the total number of days in the data\n",
    "i=15   # Order of fit\n",
    "param = np.polyfit(x,data_usa[:,3].astype(float),i)   # Perform the polynomial fit to i-th order. \n",
    "                                                      # .astype(float) converts data to float for use by polyfit\n",
    "yNew = np.polyval(param,x)                            # Reconstruct ith order fitted polynomial  \n",
    "plt.plot(data_usa[:,2],yNew,\"r--\",linewidth=4,label=\"best fitted curve\")   # Plot fitted polynomial function\n",
    "plt.legend()\n",
    "plt.show()"
   ]
  }
 ],
 "metadata": {
  "kernelspec": {
   "display_name": "Python 3",
   "language": "python",
   "name": "python3"
  },
  "language_info": {
   "codemirror_mode": {
    "name": "ipython",
    "version": 3
   },
   "file_extension": ".py",
   "mimetype": "text/x-python",
   "name": "python",
   "nbconvert_exporter": "python",
   "pygments_lexer": "ipython3",
   "version": "3.7.6"
  }
 },
 "nbformat": 4,
 "nbformat_minor": 4
}
